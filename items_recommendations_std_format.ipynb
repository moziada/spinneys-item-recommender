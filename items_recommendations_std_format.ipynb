{
 "cells": [
  {
   "cell_type": "code",
   "execution_count": null,
   "metadata": {},
   "outputs": [],
   "source": [
    "import pandas as pd\n",
    "from tqdm import tqdm\n",
    "from pathlib import Path\n",
    "import os"
   ]
  },
  {
   "cell_type": "code",
   "execution_count": null,
   "metadata": {},
   "outputs": [],
   "source": [
    "from recommendation_module import Item2Item\n",
    "model = Item2Item(model_name=\"Loyalty-03-10-2023\")"
   ]
  },
  {
   "cell_type": "code",
   "execution_count": null,
   "metadata": {},
   "outputs": [],
   "source": [
    "DATA_PATH = Path(\"data/Loyalty-03-10-2023/transactions data\")\n",
    "train_files = os.listdir(DATA_PATH)\n",
    "\n",
    "unique_items = pd.DataFrame()\n",
    "for file in tqdm(train_files):\n",
    "    train_df = pd.read_parquet(DATA_PATH / file, columns=[\"Item No_\"])\n",
    "    unique_items = pd.concat([unique_items, train_df], axis=0, ignore_index=True)"
   ]
  },
  {
   "cell_type": "code",
   "execution_count": null,
   "metadata": {},
   "outputs": [],
   "source": [
    "recommendations = []\n",
    "unique_items = unique_items[\"Item No_\"].unique()\n",
    "for i in tqdm(unique_items):\n",
    "    try:\n",
    "        output = model.get_top_n_frequent_items(i, 150)\n",
    "        output.apply_category_filters(i)\n",
    "        recommendations.append(output.get_top_n_recommendations(50)['items'])\n",
    "    except:\n",
    "        print(f\"Failed to get predictions for item: {i}\")\n",
    "        recommendations.append([])"
   ]
  },
  {
   "cell_type": "code",
   "execution_count": null,
   "metadata": {},
   "outputs": [],
   "source": [
    "out_file = pd.DataFrame(recommendations, index=unique_items)\n",
    "out_file.to_csv(\"models/item2item/Loyalty-03-10-2023/ITEM-RECOMMENDATIONS-STD.csv\")"
   ]
  }
 ],
 "metadata": {
  "kernelspec": {
   "display_name": "base",
   "language": "python",
   "name": "python3"
  },
  "language_info": {
   "codemirror_mode": {
    "name": "ipython",
    "version": 3
   },
   "file_extension": ".py",
   "mimetype": "text/x-python",
   "name": "python",
   "nbconvert_exporter": "python",
   "pygments_lexer": "ipython3",
   "version": "3.11.4"
  },
  "orig_nbformat": 4
 },
 "nbformat": 4,
 "nbformat_minor": 2
}
